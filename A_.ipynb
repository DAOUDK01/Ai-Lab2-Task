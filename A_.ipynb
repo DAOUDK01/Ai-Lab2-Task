{
  "nbformat": 4,
  "nbformat_minor": 0,
  "metadata": {
    "colab": {
      "provenance": []
    },
    "kernelspec": {
      "name": "python3",
      "display_name": "Python 3"
    },
    "language_info": {
      "name": "python"
    }
  },
  "cells": [
    {
      "cell_type": "markdown",
      "source": [
        "##Lab 5 A* Search (Heuristic Search)\n"
      ],
      "metadata": {
        "id": "qOe8SfY9Ge49"
      }
    },
    {
      "cell_type": "code",
      "source": [
        "import heapq                    # Import heapq to use a priority queue (min-heap)\n"
      ],
      "metadata": {
        "id": "Q5PK_2aBHW4A"
      },
      "execution_count": null,
      "outputs": []
    },
    {
      "cell_type": "code",
      "execution_count": null,
      "metadata": {
        "id": "7sTrSMs5FcpC"
      },
      "outputs": [],
      "source": [
        "\n",
        "#  Weighted graph: each node maps to a dict of neighbors and edge costs (distances)\n",
        "graph = {\n",
        "    \"Lahore\": {\"Islamabad\": 210, \"Faisalabad\": 280},\n",
        "    \"Islamabad\": {\"Lahore\": 170, \"Peshawar\": 190},\n",
        "    \"Faisalabad\": {\"Lahore\": 180, \"Multan\": 220},\n",
        "    \"Multan\": {\"Faisalabad\": 320, \"Karachi\": 880},\n",
        "    \"Peshawar\": {\"Islamabad\": 190},\n",
        "    \"Karachi\": {\"Multan\": 880}\n",
        "}\n",
        "# Heuristic must be admissible (never overestimate) to guarantee optimality.\n",
        "heuristic = {\n",
        "    \"Lahore\": 1210,\n",
        "    \"Islamabad\": 1100,\n",
        "    \"Faisalabad\": 1050,\n",
        "    \"Multan\": 880,\n",
        "    \"Peshawar\": 1250,\n",
        "      \"Karachi\": 0\n",
        "}\n",
        "def Algo(graph, start, goal, heuristic):\n",
        "    \"\"\"\n",
        "    A* search returns (path, total_cost) or (None, inf) if no path found.\n",
        "    We store paths in the priority queue together with their f-cost = g + h.\n",
        "    \"\"\"\n",
        "    open_list = []  # priority queue (min-heap) storing tuples (f_cost, path_list)\n",
        "    #  push the start node. g(start)=0 so f = 0 + h(start) = h(start)\n",
        "    heapq.heappush(open_list, (heuristic[start], [start]))\n",
        "    g_costs = {start: 0}  #  dictionary to store best-known g(n) costs\n",
        "    closed_set = set()    #  nodes whose best cost is finalized\n",
        "\n",
        "    #  loop until there are no nodes left to expand\n",
        "    while open_list:\n",
        "        f, path = heapq.heappop(open_list)  # pop node with smallest f(n)\n",
        "        node = path[-1]                     # current node is the last in the path\n",
        "\n",
        "        #  goal test\n",
        "        if node == goal:\n",
        "            return path, g_costs[node]\n",
        "\n",
        "        # skip if we already finalized this node\n",
        "        if node in closed_set:\n",
        "            continue\n",
        "\n",
        "        closed_set.add(node)  #  mark node as finalized\n",
        "\n",
        "        # iterate through neighbors and edge costs\n",
        "        for neighbor, cost in graph[node].items():\n",
        "            tentative_g = g_costs[node] + cost  # g through current node to neighbor\n",
        "\n",
        "            # if neighbor unseen or we found a cheaper g, update\n",
        "            if neighbor not in g_costs or tentative_g < g_costs[neighbor]:\n",
        "                g_costs[neighbor] = tentative_g\n",
        "                f_cost = tentative_g + heuristic.get(neighbor, float('inf'))\n",
        "                new_path = path + [neighbor]\n",
        "                heapq.heappush(open_list, (f_cost, new_path))\n",
        "\n",
        "    # if open_list empties without reaching goal => no path\n",
        "    return None, float('inf')\n",
        "\n"
      ]
    },
    {
      "cell_type": "code",
      "source": [
        "if __name__ == \"__main__\":\n",
        "    start_city = \"Lahore\"\n",
        "    goal_city = \"Peshawar\"\n",
        "    path, cost = Algo(graph, start_city, goal_city, heuristic)\n",
        "    print(\"Path from Source to Destination :\", path)\n",
        "    print(\"Total cost:\", cost)"
      ],
      "metadata": {
        "colab": {
          "base_uri": "https://localhost:8080/"
        },
        "id": "kENgzPACGv_j",
        "outputId": "5119f07d-4efe-486e-e9b5-01293ae3e5ab"
      },
      "execution_count": null,
      "outputs": [
        {
          "output_type": "stream",
          "name": "stdout",
          "text": [
            "Path from Source to Destination : ['Lahore', 'Islamabad', 'Peshawar']\n",
            "Total cost: 400\n"
          ]
        }
      ]
    },
    {
      "cell_type": "code",
      "source": [],
      "metadata": {
        "id": "eA5MoVekHUKR"
      },
      "execution_count": null,
      "outputs": []
    }
  ]
}